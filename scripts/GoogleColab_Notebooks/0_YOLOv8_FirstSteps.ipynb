{
  "nbformat": 4,
  "nbformat_minor": 0,
  "metadata": {
    "colab": {
      "provenance": [],
      "gpuType": "T4"
    },
    "kernelspec": {
      "name": "python3",
      "display_name": "Python 3"
    },
    "language_info": {
      "name": "python"
    },
    "gpuClass": "standard",
    "accelerator": "GPU"
  },
  "cells": [
    {
      "cell_type": "markdown",
      "source": [
        "**Install the necessary libraries**"
      ],
      "metadata": {
        "id": "-i8pG_sabqnE"
      }
    },
    {
      "cell_type": "code",
      "source": [
        "# Pip install method (recommended)\n",
        "\n",
        "!pip install ultralytics\n",
        "\n",
        "from IPython import display\n",
        "display.clear_output()\n",
        "\n",
        "import ultralytics\n",
        "from ultralytics import YOLO\n",
        "ultralytics.checks()\n",
        "\n",
        "import os\n",
        "from google.colab import drive\n",
        "import cv2"
      ],
      "metadata": {
        "colab": {
          "base_uri": "https://localhost:8080/"
        },
        "id": "qQQl-yeG6o8A",
        "outputId": "0f786d56-5374-489a-b3b2-76ad40053cf3"
      },
      "execution_count": null,
      "outputs": [
        {
          "output_type": "stream",
          "name": "stdout",
          "text": [
            "Ultralytics YOLOv8.2.22 🚀 Python-3.10.12 torch-2.3.0+cu121 CUDA:0 (Tesla T4, 15102MiB)\n",
            "Setup complete ✅ (2 CPUs, 12.7 GB RAM, 29.9/78.2 GB disk)\n"
          ]
        }
      ]
    },
    {
      "cell_type": "markdown",
      "source": [
        "**Mount your Google Drive (Permit and trust)**"
      ],
      "metadata": {
        "id": "a21heTKtbv3D"
      }
    },
    {
      "cell_type": "code",
      "execution_count": null,
      "metadata": {
        "colab": {
          "base_uri": "https://localhost:8080/"
        },
        "id": "ike2KVS03hM3",
        "outputId": "435df181-d612-4ac8-e58a-dbed82332f69"
      },
      "outputs": [
        {
          "output_type": "stream",
          "name": "stdout",
          "text": [
            "Mounted at /content/gdrive\n"
          ]
        }
      ],
      "source": [
        "MOUNTPOINT = '/content/gdrive'\n",
        "DATADIR = os.path.join(MOUNTPOINT, 'My Drive', 'Colab Notebooks')\n",
        "drive.mount(MOUNTPOINT)"
      ]
    },
    {
      "cell_type": "markdown",
      "source": [
        "**Check acces and the content of your google drive**\n",
        "\n"
      ],
      "metadata": {
        "id": "yC-YuTuSkYF_"
      }
    },
    {
      "cell_type": "code",
      "source": [
        "print(\"Files and folders: \", os.listdir(DATADIR))\n",
        "print(\"Full path: \", DATADIR)"
      ],
      "metadata": {
        "id": "6xnOHpGC-FCM",
        "colab": {
          "base_uri": "https://localhost:8080/"
        },
        "outputId": "3c0f599d-44ca-4c3f-a9eb-35124b8cbf74"
      },
      "execution_count": null,
      "outputs": [
        {
          "output_type": "stream",
          "name": "stdout",
          "text": [
            "Files and folders:  ['datasets', 'test_img.jpg', 'test_img_predict.jpg', '1_YOLOv8_Train.ipynb', '2_YOLOv8_Predict.ipynb', '0_YOLOv8_FirstSteps.ipynb']\n",
            "Full path:  /content/gdrive/My Drive/Colab Notebooks\n"
          ]
        }
      ]
    },
    {
      "cell_type": "markdown",
      "source": [
        "**Test a already existing model on an image**"
      ],
      "metadata": {
        "id": "pP9JHdhAkrGj"
      }
    },
    {
      "cell_type": "code",
      "source": [
        "# Load a model\n",
        "model = YOLO(\"yolov8n.pt\")  # load a pretrained model n: nano s: small m:medium l: large\n",
        "\n",
        "# Use the model\n",
        "results = model(\"/content/gdrive/My Drive/Colab Notebooks/test_img.jpg\")  # predict on an image\n",
        "res_plotted = results[0].plot()\n",
        "  # Save the results\n",
        "cv2.imwrite('/content/gdrive/My Drive/Colab Notebooks/test_img_predict.jpg', res_plotted)\n"
      ],
      "metadata": {
        "colab": {
          "base_uri": "https://localhost:8080/"
        },
        "id": "QFwZiO6ThLX-",
        "outputId": "40164a11-e1ba-423b-a734-eb61b1e9f225"
      },
      "execution_count": null,
      "outputs": [
        {
          "output_type": "stream",
          "name": "stdout",
          "text": [
            "\n",
            "image 1/1 /content/gdrive/My Drive/Colab Notebooks/test_img.jpg: 640x640 2 dogs, 3 sheeps, 3 cows, 8.3ms\n",
            "Speed: 3.4ms preprocess, 8.3ms inference, 1.4ms postprocess per image at shape (1, 3, 640, 640)\n"
          ]
        }
      ]
    },
    {
      "cell_type": "code",
      "source": [
        "os.listdir(\"/content\") # file storage on google colab"
      ],
      "metadata": {
        "colab": {
          "base_uri": "https://localhost:8080/"
        },
        "id": "4xmqRj0slJ8e",
        "outputId": "130f2f23-2767-4185-8c85-81f1bdea1528"
      },
      "execution_count": null,
      "outputs": [
        {
          "output_type": "execute_result",
          "data": {
            "text/plain": [
              "['.config', 'yolov8n.pt', 'gdrive']"
            ]
          },
          "metadata": {},
          "execution_count": 9
        }
      ]
    },
    {
      "cell_type": "code",
      "source": [],
      "metadata": {
        "id": "yGV2WbWNOWzd"
      },
      "execution_count": null,
      "outputs": []
    }
  ]
}